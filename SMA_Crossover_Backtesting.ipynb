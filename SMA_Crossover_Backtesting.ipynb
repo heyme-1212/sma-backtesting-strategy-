{
 "cells": [
  {
   "cell_type": "markdown",
   "id": "68469f0d",
   "metadata": {},
   "source": [
    "# 📈 SMA Crossover Backtesting Strategy\n",
    "This notebook implements a simple trading strategy using short-term and long-term Simple Moving Averages (SMA)."
   ]
  },
  {
   "cell_type": "code",
   "execution_count": null,
   "id": "a3822122",
   "metadata": {},
   "outputs": [],
   "source": [
    "# Install yfinance if not already installed\n",
    "!pip install yfinance\n"
   ]
  },
  {
   "cell_type": "code",
   "execution_count": null,
   "id": "5f7c9a2b",
   "metadata": {},
   "outputs": [],
   "source": [
    "import yfinance as yf\n",
    "import pandas as pd\n",
    "import numpy as np\n",
    "import matplotlib.pyplot as plt\n",
    "\n",
    "# Download historical stock data (e.g., Apple)\n",
    "ticker = 'AAPL'\n",
    "df = yf.download(ticker, start='2020-01-01', end='2023-12-31')\n",
    "\n",
    "# Calculate 20-day and 50-day Simple Moving Averages\n",
    "df['SMA_20'] = df['Close'].rolling(window=20).mean()\n",
    "df['SMA_50'] = df['Close'].rolling(window=50).mean()\n",
    "\n",
    "# Generate buy/sell signals\n",
    "df['Signal'] = 0\n",
    "df['Signal'][20:] = np.where(df['SMA_20'][20:] > df['SMA_50'][20:], 1, 0)\n",
    "df['Position'] = df['Signal'].diff()\n"
   ]
  },
  {
   "cell_type": "code",
   "execution_count": null,
   "id": "06349e17",
   "metadata": {},
   "outputs": [],
   "source": [
    "# Plot buy/sell signals on the price chart\n",
    "plt.figure(figsize=(14,6))\n",
    "plt.plot(df['Close'], label='Close Price', alpha=0.5)\n",
    "plt.plot(df['SMA_20'], label='SMA 20')\n",
    "plt.plot(df['SMA_50'], label='SMA 50')\n",
    "plt.plot(df[df['Position'] == 1].index, df['SMA_20'][df['Position'] == 1], '^', color='g', label='Buy Signal', markersize=10)\n",
    "plt.plot(df[df['Position'] == -1].index, df['SMA_20'][df['Position'] == -1], 'v', color='r', label='Sell Signal', markersize=10)\n",
    "plt.title('SMA Crossover Strategy - AAPL')\n",
    "plt.legend()\n",
    "plt.grid(True)\n",
    "plt.show()\n"
   ]
  },
  {
   "cell_type": "code",
   "execution_count": null,
   "id": "576af244",
   "metadata": {},
   "outputs": [],
   "source": [
    "# Calculate strategy returns vs. buy-and-hold returns\n",
    "df['Returns'] = df['Close'].pct_change()\n",
    "df['Strategy'] = df['Signal'].shift(1) * df['Returns']\n",
    "\n",
    "# Plot cumulative returns\n",
    "df[['Returns', 'Strategy']].cumsum().plot(figsize=(12, 6), title='Strategy vs Buy and Hold Returns')\n",
    "plt.grid(True)\n",
    "plt.show()\n"
   ]
  },
  {
   "cell_type": "markdown",
   "id": "6a37b90f",
   "metadata": {},
   "source": [
    "### ✅ Strategy Summary\n",
    "This strategy buys when the 20-day SMA crosses above the 50-day SMA and sells when it crosses below. It allows performance comparison between the strategy and a traditional buy-and-hold approach."
   ]
  }
 ],
 "metadata": {},
 "nbformat": 4,
 "nbformat_minor": 5
}
